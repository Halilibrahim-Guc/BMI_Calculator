{
  "nbformat": 4,
  "nbformat_minor": 0,
  "metadata": {
    "colab": {
      "provenance": [],
      "authorship_tag": "ABX9TyOr+Ez1blDMIsfuPc/3ZWOM",
      "include_colab_link": true
    },
    "kernelspec": {
      "name": "python3",
      "display_name": "Python 3"
    },
    "language_info": {
      "name": "python"
    }
  },
  "cells": [
    {
      "cell_type": "markdown",
      "metadata": {
        "id": "view-in-github",
        "colab_type": "text"
      },
      "source": [
        "<a href=\"https://colab.research.google.com/github/Halilibrahim-Guc/BMI_Calculator/blob/main/BMI_Measurement.ipynb\" target=\"_parent\"><img src=\"https://colab.research.google.com/assets/colab-badge.svg\" alt=\"Open In Colab\"/></a>"
      ]
    },
    {
      "cell_type": "code",
      "execution_count": 6,
      "metadata": {
        "colab": {
          "base_uri": "https://localhost:8080/"
        },
        "id": "wOJD2Y9BC65Y",
        "outputId": "0597ef58-0bd1-452b-8d36-cc61167713d8"
      },
      "outputs": [
        {
          "output_type": "stream",
          "name": "stdout",
          "text": [
            "Enter your height in meters: 1.75\n",
            "Enter your weight in kilograms: 62\n",
            "Your BMI is: 20.24\n",
            "Your weight is normal.\n"
          ]
        }
      ],
      "source": [
        "# Define a function for BMI Calculation\n",
        "def bmi_calculator(height,weight):\n",
        "  return round((weight / (height ** 2)),2)\n",
        "\n",
        "# Take height and weights inputs\n",
        "height = float(input(\"Enter your height in meters: \"))\n",
        "weight = float(input(\"Enter your weight in kilograms: \"))\n",
        "\n",
        "# Calculate BMI value\n",
        "bmi = bmi_calculator(height,weight)\n",
        "\n",
        "print(f\"Your BMI is: {bmi}\")\n",
        "\n",
        "# Show body condition according to BMI value\n",
        "if bmi <= 18.5:\n",
        "    print(\"You are underweight.\")\n",
        "elif 18.5 < bmi <= 24.9:\n",
        "    print(\"Your weight is normal.\")\n",
        "elif 25 < bmi <= 29.29:\n",
        "    print(\"You are overweight.\")\n",
        "else:\n",
        "    print(\"You are obese.\")"
      ]
    }
  ]
}